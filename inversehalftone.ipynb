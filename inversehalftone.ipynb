{
 "cells": [
  {
   "cell_type": "code",
   "execution_count": null,
   "metadata": {},
   "outputs": [],
   "source": [
    "import numpy as np\n",
    "import matplotlib.pyplot as plt\n",
    "from matplotlib.colors import LogNorm\n",
    "import cv2"
   ]
  },
  {
   "cell_type": "markdown",
   "metadata": {},
   "source": [
    "Tried using blur, gives weird artifcats\n",
    "Sharpen is even worse"
   ]
  },
  {
   "cell_type": "code",
   "execution_count": null,
   "metadata": {},
   "outputs": [],
   "source": [
    "# image = cv2.imread('First_PanAm_Flight_Havana.tif', cv2.IMREAD_GRAYSCALE)\n",
    "image = cv2.imread('Leuteritz portrait_1200dpi.tif')\n",
    "image = cv2.cvtColor(image, cv2.COLOR_BGR2GRAY)\n",
    "n, m = image.shape\n",
    "# image = cv2.resize(image, (int(m/3),int(n/3)))\n",
    "# image = cv2.resize(image, (int(m), int(n)))"
   ]
  },
  {
   "cell_type": "code",
   "execution_count": null,
   "metadata": {},
   "outputs": [],
   "source": [
    "# cv2.imwrite('IN.jpg', image)\n",
    "# fig = plt.figure(figsize=(20, 20))\n",
    "# plt.imshow(image, cmap='gray')"
   ]
  },
  {
   "cell_type": "code",
   "execution_count": null,
   "metadata": {},
   "outputs": [],
   "source": [
    "F = np.fft.fft2(image)\n",
    "F = np.fft.fftshift(F)\n",
    "\n",
    "# F_blur =  np.fft.fft2(blurred)\n",
    "\n",
    "F_mag = (F.real**2 + F.imag**2)**0.5\n",
    "# F_logged = np.log(F_mag)"
   ]
  },
  {
   "cell_type": "code",
   "execution_count": null,
   "metadata": {},
   "outputs": [],
   "source": [
    "# lower = 10**4\n",
    "# upper = 10**6\n",
    "# clipped  = np.clip(F_mag, lower, upper)\n",
    "# plt.imshow(F_mag, cmap='gray')\n",
    "# plt.colorbar()\n",
    "\n",
    "# print(clipped.max(), clipped.min())"
   ]
  },
  {
   "cell_type": "code",
   "execution_count": null,
   "metadata": {},
   "outputs": [],
   "source": [
    "# max = np.amax(F_mag)\n",
    "# index = np.where(F_mag == max)\n",
    "# print(max, index, F_mag[0][0])"
   ]
  },
  {
   "cell_type": "code",
   "execution_count": null,
   "metadata": {},
   "outputs": [],
   "source": [
    "x = np.arange(-m/2, m/2) / m\n",
    "y = np.arange(-n/2, n/2) / n\n",
    "z = np.zeros((m, n))\n",
    "mask = np.zeros((m, n))\n",
    "for i in range(m-1):\n",
    "    for j in range(n-1):\n",
    "        z[i][j] = x[i] ** 2 + y[j] ** 2"
   ]
  },
  {
   "cell_type": "code",
   "execution_count": null,
   "metadata": {},
   "outputs": [],
   "source": [
    "b = 99\n",
    "a = 10000\n",
    "mask = np.exp(-np.pi*z * a / b**2)\n",
    "# print(F_mag)\n",
    "# mask = [1 if z > b else 0]\n",
    "# print(np.max(mask))"
   ]
  },
  {
   "cell_type": "code",
   "execution_count": null,
   "metadata": {},
   "outputs": [],
   "source": [
    "# plt.imshow(mask, cmap='gray')\n",
    "# plt.colorbar()"
   ]
  },
  {
   "cell_type": "code",
   "execution_count": null,
   "metadata": {},
   "outputs": [],
   "source": [
    "product = np.multiply(F.T, mask)\n",
    "# print(product)"
   ]
  },
  {
   "cell_type": "code",
   "execution_count": null,
   "metadata": {},
   "outputs": [],
   "source": [
    "# plt.imshow(product.imag, cmap='gray', norm=LogNorm(vmin=lower, vmax=upper))\n",
    "# plt.colorbar()"
   ]
  },
  {
   "cell_type": "code",
   "execution_count": null,
   "metadata": {},
   "outputs": [],
   "source": [
    "ifft_product = np.fft.ifft2(product)\n",
    "# ifft_product = np.fft.ifftshift(ifft_product)\n",
    "\n",
    "ifft_mag = (ifft_product.real**2 + ifft_product.imag**2)\n",
    "# ifft_mag = ifft_product.real\n",
    "normalized = ifft_mag.T / ifft_mag.max() * 255\n",
    "normalized = normalized.astype(int)\n",
    "# print(normalized)"
   ]
  },
  {
   "cell_type": "code",
   "execution_count": null,
   "metadata": {},
   "outputs": [],
   "source": [
    "plt.imshow(ifft_mag, cmap='gray')\n",
    "plt.colorbar()\n"
   ]
  },
  {
   "cell_type": "code",
   "execution_count": null,
   "metadata": {},
   "outputs": [],
   "source": [
    "\n",
    "cv2.imwrite('Out.tiff', normalized)"
   ]
  }
 ],
 "metadata": {
  "interpreter": {
   "hash": "15ff63d76a5a088deec4577be734e5ce5a811c6fc85bfd83ee8b8158bca39995"
  },
  "kernelspec": {
   "display_name": "Python 3.8.3 64-bit (system)",
   "language": "python",
   "name": "python3"
  },
  "language_info": {
   "codemirror_mode": {
    "name": "ipython",
    "version": 3
   },
   "file_extension": ".py",
   "mimetype": "text/x-python",
   "name": "python",
   "nbconvert_exporter": "python",
   "pygments_lexer": "ipython3",
   "version": "3.8.3"
  },
  "orig_nbformat": 4
 },
 "nbformat": 4,
 "nbformat_minor": 2
}
